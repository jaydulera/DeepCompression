{
  "nbformat": 4,
  "nbformat_minor": 0,
  "metadata": {
    "colab": {
      "name": "weightclustering.ipynb",
      "provenance": []
    },
    "kernelspec": {
      "name": "python3",
      "display_name": "Python 3"
    }
  },
  "cells": [
    {
      "cell_type": "code",
      "metadata": {
        "id": "wzOBmhqfnyap"
      },
      "source": [
        "import tensorflow as tf"
      ],
      "execution_count": null,
      "outputs": []
    },
    {
      "cell_type": "code",
      "metadata": {
        "id": "xwnHTGG8n25a"
      },
      "source": [
        "from tensorflow import keras"
      ],
      "execution_count": null,
      "outputs": []
    },
    {
      "cell_type": "code",
      "metadata": {
        "colab": {
          "base_uri": "https://localhost:8080/"
        },
        "id": "xqZQ4rpsn86G",
        "outputId": "69174edd-4a75-46d7-db18-040aaca77586"
      },
      "source": [
        "from keras.datasets import cifar10\r\n",
        "(X_train , y_train) , (X_test , y_test) = cifar10.load_data()"
      ],
      "execution_count": null,
      "outputs": [
        {
          "output_type": "stream",
          "text": [
            "Downloading data from https://www.cs.toronto.edu/~kriz/cifar-10-python.tar.gz\n",
            "170500096/170498071 [==============================] - 4s 0us/step\n"
          ],
          "name": "stdout"
        }
      ]
    },
    {
      "cell_type": "code",
      "metadata": {
        "id": "xU7DUuyaoFpa"
      },
      "source": [
        "X_train = X_train.astype(float)/255.0"
      ],
      "execution_count": null,
      "outputs": []
    },
    {
      "cell_type": "code",
      "metadata": {
        "id": "sTDrAXLfoPim"
      },
      "source": [
        "X_test = X_test.astype(float)/255.0"
      ],
      "execution_count": null,
      "outputs": []
    },
    {
      "cell_type": "code",
      "metadata": {
        "id": "fNNemdPWoUOA"
      },
      "source": [
        "from keras import Sequential\r\n",
        "from keras.layers import Conv2D\r\n",
        "from keras.layers import MaxPool2D\r\n",
        "from keras.layers import Flatten\r\n",
        "from keras.layers import Dense\r\n",
        "from keras.layers import Dropout\r\n",
        "from keras.layers import BatchNormalization"
      ],
      "execution_count": null,
      "outputs": []
    },
    {
      "cell_type": "code",
      "metadata": {
        "id": "JROMsPjHoinl"
      },
      "source": [
        "model = Sequential()\r\n",
        "model.add(Conv2D(24 , (3 , 3), activation='relu',input_shape = (32 , 32 , 3), kernel_initializer='he_uniform', padding='same' , kernel_regularizer='l2'))\r\n",
        "model.add(BatchNormalization())\r\n",
        "# model.add(Conv2D(24 , (3 , 3), activation='relu', kernel_initializer='he_uniform' , kernel_regularizer='l2'))\r\n",
        "# model.add(BatchNormalization())\r\n",
        "model.add(MaxPool2D(2 , 2))\r\n",
        "# model.add(Dropout(0.2))\r\n",
        "# model.add(Conv2D(48 , (5 , 5), activation='relu', kernel_initializer='he_uniform', padding='same' , kernel_regularizer='l2'))\r\n",
        "# model.add(BatchNormalization())\r\n",
        "# model.add(Conv2D(48 , (5 , 5), activation='relu', kernel_initializer='he_uniform', kernel_regularizer='l2'))\r\n",
        "# model.add(BatchNormalization())\r\n",
        "# model.add(MaxPool2D(2 , 2))\r\n",
        "# model.add(Dropout(0.3))\r\n",
        "model.add(Flatten())\r\n",
        "model.add(Dense(48 , activation='relu', kernel_initializer='he_uniform', kernel_regularizer='l2'))\r\n",
        "model.add(BatchNormalization())\r\n",
        "model.add(Dense(10))\r\n",
        "# model.compile(optimizer='adam', loss='categorical_crossentropy', metrics=['accuracy'])\r\n",
        "model.compile(optimizer='adam',\r\n",
        "              loss=tf.keras.losses.SparseCategoricalCrossentropy(from_logits=True),\r\n",
        "              metrics=['accuracy'])"
      ],
      "execution_count": null,
      "outputs": []
    },
    {
      "cell_type": "code",
      "metadata": {
        "colab": {
          "base_uri": "https://localhost:8080/"
        },
        "id": "apwuVZOQo_2p",
        "outputId": "fc19929d-442e-4e7c-c184-dcd2275aeb5a"
      },
      "source": [
        "model.fit(X_train , y_train , epochs = 2 , batch_size=32 , validation_split=0.2)"
      ],
      "execution_count": null,
      "outputs": [
        {
          "output_type": "stream",
          "text": [
            "Epoch 1/2\n",
            "1250/1250 [==============================] - 43s 33ms/step - loss: 2.4863 - accuracy: 0.4301 - val_loss: 1.8697 - val_accuracy: 0.4962\n",
            "Epoch 2/2\n",
            "1250/1250 [==============================] - 41s 33ms/step - loss: 1.6979 - accuracy: 0.5505 - val_loss: 1.7016 - val_accuracy: 0.5271\n"
          ],
          "name": "stdout"
        },
        {
          "output_type": "execute_result",
          "data": {
            "text/plain": [
              "<tensorflow.python.keras.callbacks.History at 0x7f115b59c668>"
            ]
          },
          "metadata": {
            "tags": []
          },
          "execution_count": 9
        }
      ]
    },
    {
      "cell_type": "code",
      "metadata": {
        "colab": {
          "base_uri": "https://localhost:8080/"
        },
        "id": "ij94RkRupNoc",
        "outputId": "797d9911-1635-42a1-d99f-9fc570c5b645"
      },
      "source": [
        "model.evaluate(X_test , y_test , verbose = 0)"
      ],
      "execution_count": null,
      "outputs": [
        {
          "output_type": "execute_result",
          "data": {
            "text/plain": [
              "[1.6859220266342163, 0.531499981880188]"
            ]
          },
          "metadata": {
            "tags": []
          },
          "execution_count": 10
        }
      ]
    },
    {
      "cell_type": "code",
      "metadata": {
        "id": "NKtiznIOpnX3"
      },
      "source": [
        "import tempfile"
      ],
      "execution_count": null,
      "outputs": []
    },
    {
      "cell_type": "code",
      "metadata": {
        "colab": {
          "base_uri": "https://localhost:8080/"
        },
        "id": "u5uQ-lclp19F",
        "outputId": "26983682-af6b-4f2b-92fa-8c286ca6fc9c"
      },
      "source": [
        "_, keras_file = tempfile.mkstemp('.h5')\r\n",
        "print('Saving model to: ', keras_file)\r\n",
        "tf.keras.models.save_model(model, keras_file, include_optimizer=False)"
      ],
      "execution_count": null,
      "outputs": [
        {
          "output_type": "stream",
          "text": [
            "Saving model to:  /tmp/tmpqm_lbhdi.h5\n"
          ],
          "name": "stdout"
        }
      ]
    },
    {
      "cell_type": "code",
      "metadata": {
        "colab": {
          "base_uri": "https://localhost:8080/"
        },
        "id": "PJfDfVdCp5gc",
        "outputId": "90d7f9c6-9d7a-44ca-b3db-327ac2886432"
      },
      "source": [
        "pip install tensorflow_model_optimization"
      ],
      "execution_count": null,
      "outputs": [
        {
          "output_type": "stream",
          "text": [
            "Collecting tensorflow_model_optimization\n",
            "\u001b[?25l  Downloading https://files.pythonhosted.org/packages/55/38/4fd48ea1bfcb0b6e36d949025200426fe9c3a8bfae029f0973d85518fa5a/tensorflow_model_optimization-0.5.0-py2.py3-none-any.whl (172kB)\n",
            "\r\u001b[K     |██                              | 10kB 18.2MB/s eta 0:00:01\r\u001b[K     |███▉                            | 20kB 22.8MB/s eta 0:00:01\r\u001b[K     |█████▊                          | 30kB 21.6MB/s eta 0:00:01\r\u001b[K     |███████▋                        | 40kB 12.7MB/s eta 0:00:01\r\u001b[K     |█████████▌                      | 51kB 8.9MB/s eta 0:00:01\r\u001b[K     |███████████▍                    | 61kB 9.7MB/s eta 0:00:01\r\u001b[K     |█████████████▎                  | 71kB 9.4MB/s eta 0:00:01\r\u001b[K     |███████████████▏                | 81kB 9.4MB/s eta 0:00:01\r\u001b[K     |█████████████████               | 92kB 9.2MB/s eta 0:00:01\r\u001b[K     |███████████████████             | 102kB 9.6MB/s eta 0:00:01\r\u001b[K     |████████████████████▉           | 112kB 9.6MB/s eta 0:00:01\r\u001b[K     |██████████████████████▊         | 122kB 9.6MB/s eta 0:00:01\r\u001b[K     |████████████████████████▊       | 133kB 9.6MB/s eta 0:00:01\r\u001b[K     |██████████████████████████▋     | 143kB 9.6MB/s eta 0:00:01\r\u001b[K     |████████████████████████████▌   | 153kB 9.6MB/s eta 0:00:01\r\u001b[K     |██████████████████████████████▍ | 163kB 9.6MB/s eta 0:00:01\r\u001b[K     |████████████████████████████████| 174kB 9.6MB/s \n",
            "\u001b[?25hRequirement already satisfied: six~=1.10 in /usr/local/lib/python3.6/dist-packages (from tensorflow_model_optimization) (1.15.0)\n",
            "Requirement already satisfied: dm-tree~=0.1.1 in /usr/local/lib/python3.6/dist-packages (from tensorflow_model_optimization) (0.1.5)\n",
            "Requirement already satisfied: numpy~=1.14 in /usr/local/lib/python3.6/dist-packages (from tensorflow_model_optimization) (1.19.4)\n",
            "Installing collected packages: tensorflow-model-optimization\n",
            "Successfully installed tensorflow-model-optimization-0.5.0\n"
          ],
          "name": "stdout"
        }
      ]
    },
    {
      "cell_type": "code",
      "metadata": {
        "id": "Vr2D8aJdqC5P"
      },
      "source": [
        "import tensorflow_model_optimization as tfmot"
      ],
      "execution_count": null,
      "outputs": []
    },
    {
      "cell_type": "code",
      "metadata": {
        "id": "i4vHKd4kqH13"
      },
      "source": [
        "cluster_weights = tfmot.clustering.keras.cluster_weights\r\n",
        "CentroidInitialization = tfmot.clustering.keras.CentroidInitialization\r\n",
        "clustering_params = {\r\n",
        "  'number_of_clusters': 32,\r\n",
        "  'cluster_centroids_init': CentroidInitialization.LINEAR\r\n",
        "}"
      ],
      "execution_count": null,
      "outputs": []
    },
    {
      "cell_type": "code",
      "metadata": {
        "id": "LMfCm0xwqS3G"
      },
      "source": [
        "clustered_model = cluster_weights(model, **clustering_params)"
      ],
      "execution_count": null,
      "outputs": []
    },
    {
      "cell_type": "code",
      "metadata": {
        "id": "Dpga3AGpqTrh"
      },
      "source": [
        "opt = tf.keras.optimizers.Adam(learning_rate=1e-5)\r\n",
        "clustered_model.compile(\r\n",
        "  loss=tf.keras.losses.SparseCategoricalCrossentropy(from_logits=True),\r\n",
        "  optimizer=opt,\r\n",
        "  metrics=['accuracy'])"
      ],
      "execution_count": null,
      "outputs": []
    },
    {
      "cell_type": "code",
      "metadata": {
        "colab": {
          "base_uri": "https://localhost:8080/"
        },
        "id": "ZiWhn6I2qadB",
        "outputId": "381f289a-d7e4-4965-f774-4ef3ce767029"
      },
      "source": [
        "model.summary()"
      ],
      "execution_count": null,
      "outputs": [
        {
          "output_type": "stream",
          "text": [
            "Model: \"sequential\"\n",
            "_________________________________________________________________\n",
            "Layer (type)                 Output Shape              Param #   \n",
            "=================================================================\n",
            "conv2d (Conv2D)              (None, 32, 32, 24)        24        \n",
            "_________________________________________________________________\n",
            "batch_normalization (BatchNo (None, 32, 32, 24)        96        \n",
            "_________________________________________________________________\n",
            "max_pooling2d (MaxPooling2D) (None, 16, 16, 24)        0         \n",
            "_________________________________________________________________\n",
            "flatten (Flatten)            (None, 6144)              0         \n",
            "_________________________________________________________________\n",
            "dense (Dense)                (None, 48)                48        \n",
            "_________________________________________________________________\n",
            "batch_normalization_1 (Batch (None, 48)                192       \n",
            "_________________________________________________________________\n",
            "dense_1 (Dense)              (None, 10)                10        \n",
            "=================================================================\n",
            "Total params: 370\n",
            "Trainable params: 226\n",
            "Non-trainable params: 144\n",
            "_________________________________________________________________\n"
          ],
          "name": "stdout"
        }
      ]
    },
    {
      "cell_type": "code",
      "metadata": {
        "colab": {
          "base_uri": "https://localhost:8080/"
        },
        "id": "Ah_cgYRkqd62",
        "outputId": "0a29d391-9823-40af-b465-230a617a7f79"
      },
      "source": [
        "clustered_model.summary()"
      ],
      "execution_count": null,
      "outputs": [
        {
          "output_type": "stream",
          "text": [
            "Model: \"sequential\"\n",
            "_________________________________________________________________\n",
            "Layer (type)                 Output Shape              Param #   \n",
            "=================================================================\n",
            "cluster_conv2d (ClusterWeigh (None, 32, 32, 24)        704       \n",
            "_________________________________________________________________\n",
            "cluster_batch_normalization  (None, 32, 32, 24)        96        \n",
            "_________________________________________________________________\n",
            "cluster_max_pooling2d (Clust (None, 16, 16, 24)        0         \n",
            "_________________________________________________________________\n",
            "cluster_flatten (ClusterWeig (None, 6144)              0         \n",
            "_________________________________________________________________\n",
            "cluster_dense (ClusterWeight (None, 48)                294992    \n",
            "_________________________________________________________________\n",
            "cluster_batch_normalization_ (None, 48)                192       \n",
            "_________________________________________________________________\n",
            "cluster_dense_1 (ClusterWeig (None, 10)                522       \n",
            "=================================================================\n",
            "Total params: 296,506\n",
            "Trainable params: 322\n",
            "Non-trainable params: 296,184\n",
            "_________________________________________________________________\n"
          ],
          "name": "stdout"
        }
      ]
    },
    {
      "cell_type": "code",
      "metadata": {
        "colab": {
          "base_uri": "https://localhost:8080/"
        },
        "id": "ULjByn6aqiQh",
        "outputId": "137eb537-a7de-409c-c9d8-2f85cd62aeac"
      },
      "source": [
        "clustered_model.fit(X_train , y_train , epochs = 2 , batch_size=32 , validation_split=0.2)"
      ],
      "execution_count": null,
      "outputs": [
        {
          "output_type": "stream",
          "text": [
            "Epoch 1/2\n",
            "1250/1250 [==============================] - 41s 33ms/step - loss: 1.6231 - accuracy: 0.5556 - val_loss: 1.6078 - val_accuracy: 0.5655\n",
            "Epoch 2/2\n",
            "1250/1250 [==============================] - 40s 32ms/step - loss: 1.5063 - accuracy: 0.6001 - val_loss: 1.5816 - val_accuracy: 0.5725\n"
          ],
          "name": "stdout"
        },
        {
          "output_type": "execute_result",
          "data": {
            "text/plain": [
              "<tensorflow.python.keras.callbacks.History at 0x7f11583b71d0>"
            ]
          },
          "metadata": {
            "tags": []
          },
          "execution_count": 21
        }
      ]
    },
    {
      "cell_type": "code",
      "metadata": {
        "colab": {
          "base_uri": "https://localhost:8080/"
        },
        "id": "AymFlBhBqxHP",
        "outputId": "f47384e4-9234-47c4-bf77-9c165fb9f292"
      },
      "source": [
        "clustered_model.evaluate(X_test , y_test , verbose = 0)"
      ],
      "execution_count": null,
      "outputs": [
        {
          "output_type": "execute_result",
          "data": {
            "text/plain": [
              "[1.5673489570617676, 0.5720999836921692]"
            ]
          },
          "metadata": {
            "tags": []
          },
          "execution_count": 22
        }
      ]
    },
    {
      "cell_type": "code",
      "metadata": {
        "colab": {
          "base_uri": "https://localhost:8080/"
        },
        "id": "6QiOIIzqrZZW",
        "outputId": "608ba8d2-a43e-4707-bedf-df46a1c25a6e"
      },
      "source": [
        "_, keras_file1 = tempfile.mkstemp('.h5')\r\n",
        "print('Saving model to: ', keras_file1)\r\n",
        "tf.keras.models.save_model(clustered_model, keras_file1, include_optimizer=False)"
      ],
      "execution_count": null,
      "outputs": [
        {
          "output_type": "stream",
          "text": [
            "Saving model to:  /tmp/tmph9p6zpzn.h5\n"
          ],
          "name": "stdout"
        }
      ]
    },
    {
      "cell_type": "markdown",
      "metadata": {
        "id": "nfJye1UXvDDc"
      },
      "source": [
        "Normal Model"
      ]
    },
    {
      "cell_type": "code",
      "metadata": {
        "colab": {
          "base_uri": "https://localhost:8080/"
        },
        "id": "wMPQgxU-rp-L",
        "outputId": "173e3eb6-977b-4dd2-91cf-1fc222ff3e4e"
      },
      "source": [
        "print('Saved quantized and clustered TFLite model to:', keras_file)"
      ],
      "execution_count": null,
      "outputs": [
        {
          "output_type": "stream",
          "text": [
            "Saved quantized and clustered TFLite model to: /tmp/tmpqm_lbhdi.h5\n"
          ],
          "name": "stdout"
        }
      ]
    },
    {
      "cell_type": "code",
      "metadata": {
        "colab": {
          "base_uri": "https://localhost:8080/"
        },
        "id": "xPk8081Is3Rw",
        "outputId": "02ce640f-469a-47ce-e79c-d477dc6633b7"
      },
      "source": [
        "print(\"Size of gzipped baseline Keras model: %.2f bytes\" % (get_gzipped_model_size(keras_file)))"
      ],
      "execution_count": null,
      "outputs": [
        {
          "output_type": "stream",
          "text": [
            "Size of gzipped baseline Keras model: 1142203.00 bytes\n"
          ],
          "name": "stdout"
        }
      ]
    },
    {
      "cell_type": "markdown",
      "metadata": {
        "id": "4wXD8ec6vIDf"
      },
      "source": [
        "Normal Model Size"
      ]
    },
    {
      "cell_type": "code",
      "metadata": {
        "colab": {
          "base_uri": "https://localhost:8080/"
        },
        "id": "kxyVmDHIuCMs",
        "outputId": "3e48c838-1043-48be-fff0-47e7f23d8633"
      },
      "source": [
        "print(\"Size of gzipped baseline Keras model: %.2f bytes\" % (get_gzipped_model_size(keras_file1)))"
      ],
      "execution_count": null,
      "outputs": [
        {
          "output_type": "stream",
          "text": [
            "Size of gzipped baseline Keras model: 149515.00 bytes\n"
          ],
          "name": "stdout"
        }
      ]
    },
    {
      "cell_type": "markdown",
      "metadata": {
        "id": "XdFzTSjsvMQB"
      },
      "source": [
        "Clustered Model Size"
      ]
    },
    {
      "cell_type": "code",
      "metadata": {
        "id": "JeZsJjrYtx4A"
      },
      "source": [
        "def get_gzipped_model_size(file):\r\n",
        "  # It returns the size of the gzipped model in bytes.\r\n",
        "  import os\r\n",
        "  import zipfile\r\n",
        "\r\n",
        "  _, zipped_file = tempfile.mkstemp('.zip')\r\n",
        "  with zipfile.ZipFile(zipped_file, 'w', compression=zipfile.ZIP_DEFLATED) as f:\r\n",
        "    f.write(file)\r\n",
        "\r\n",
        "  return os.path.getsize(zipped_file)"
      ],
      "execution_count": null,
      "outputs": []
    },
    {
      "cell_type": "code",
      "metadata": {
        "id": "BQpicCzfuw-o"
      },
      "source": [
        "batch_size = 64\r\n",
        "epochs = 2\r\n",
        "validation_split = 0.175\r\n",
        "import numpy as np"
      ],
      "execution_count": null,
      "outputs": []
    },
    {
      "cell_type": "code",
      "metadata": {
        "id": "z6hL4RCtt_bD"
      },
      "source": [
        "prune_low_magnitude = tfmot.sparsity.keras.prune_low_magnitude\r\n",
        "num_images = 32 * (1 - validation_split)\r\n",
        "end_step = np.ceil(num_images / batch_size).astype(np.int32) * epochs"
      ],
      "execution_count": null,
      "outputs": []
    },
    {
      "cell_type": "code",
      "metadata": {
        "id": "RXcfmDMju2kZ"
      },
      "source": [
        "pruning_params = {\r\n",
        "      'pruning_schedule': tfmot.sparsity.keras.PolynomialDecay(initial_sparsity=0.1,\r\n",
        "                                                               final_sparsity=0.50,\r\n",
        "                                                               begin_step=0,\r\n",
        "                                                               end_step=end_step)\r\n",
        "}"
      ],
      "execution_count": null,
      "outputs": []
    },
    {
      "cell_type": "code",
      "metadata": {
        "colab": {
          "base_uri": "https://localhost:8080/"
        },
        "id": "jn6fgiFxvRZd",
        "outputId": "b9070a0e-c052-4fb6-9945-d548673b97c7"
      },
      "source": [
        "model_for_pruning = prune_low_magnitude(model, **pruning_params)"
      ],
      "execution_count": null,
      "outputs": [
        {
          "output_type": "stream",
          "text": [
            "/usr/local/lib/python3.6/dist-packages/tensorflow/python/keras/engine/base_layer.py:2281: UserWarning: `layer.add_variable` is deprecated and will be removed in a future version. Please use `layer.add_weight` method instead.\n",
            "  warnings.warn('`layer.add_variable` is deprecated and '\n"
          ],
          "name": "stderr"
        }
      ]
    },
    {
      "cell_type": "code",
      "metadata": {
        "id": "FuVpQOSwwMdy"
      },
      "source": [
        "model = Sequential()\r\n",
        "model.add(Conv2D(24 , (3 , 3), activation='relu',input_shape = (32 , 32 , 3), kernel_initializer='he_uniform', padding='same' , kernel_regularizer='l2'))\r\n",
        "model.add(BatchNormalization())\r\n",
        "model.add(Conv2D(24 , (3 , 3), activation='relu', kernel_initializer='he_uniform' , kernel_regularizer='l2'))\r\n",
        "model.add(BatchNormalization())\r\n",
        "model.add(MaxPool2D(2 , 2))\r\n",
        "model.add(Dropout(0.2))\r\n",
        "# model.add(Conv2D(48 , (5 , 5), activation='relu', kernel_initializer='he_uniform', padding='same' , kernel_regularizer='l2'))\r\n",
        "# model.add(BatchNormalization())\r\n",
        "# model.add(Conv2D(48 , (5 , 5), activation='relu', kernel_initializer='he_uniform', kernel_regularizer='l2'))\r\n",
        "# model.add(BatchNormalization())\r\n",
        "# model.add(MaxPool2D(2 , 2))\r\n",
        "# model.add(Dropout(0.3))\r\n",
        "model.add(Flatten())\r\n",
        "model.add(Dense(48 , activation='relu', kernel_initializer='he_uniform', kernel_regularizer='l2'))\r\n",
        "model.add(BatchNormalization())\r\n",
        "model.add(Dropout(0.4))\r\n",
        "model.add(Dense(10 , activation='softmax'))\r\n",
        "model.compile(optimizer='adam', loss='categorical_crossentropy', metrics=['accuracy'])"
      ],
      "execution_count": null,
      "outputs": []
    },
    {
      "cell_type": "code",
      "metadata": {
        "id": "DTpWQerewvpQ"
      },
      "source": [
        "y_train1 = keras.utils.to_categorical(y_train)"
      ],
      "execution_count": null,
      "outputs": []
    },
    {
      "cell_type": "code",
      "metadata": {
        "id": "hsgyRA0hxBtB"
      },
      "source": [
        "y_test1 = keras.utils.to_categorical(y_test)"
      ],
      "execution_count": null,
      "outputs": []
    },
    {
      "cell_type": "code",
      "metadata": {
        "id": "E8Kp_funxExm"
      },
      "source": [
        "logdir = tempfile.mkdtemp()\r\n",
        "\r\n",
        "callbacks = [\r\n",
        "  tfmot.sparsity.keras.UpdatePruningStep(),\r\n",
        "  tfmot.sparsity.keras.PruningSummaries(log_dir=logdir),\r\n",
        "]"
      ],
      "execution_count": null,
      "outputs": []
    },
    {
      "cell_type": "code",
      "metadata": {
        "colab": {
          "base_uri": "https://localhost:8080/"
        },
        "id": "tRCDcaHYxOrN",
        "outputId": "5c852ff1-11ef-4434-8119-fc22d106f91e"
      },
      "source": [
        "model_for_pruning.fit(X_train, y_train1,\r\n",
        "                  batch_size=batch_size, epochs=epochs, validation_split=validation_split,\r\n",
        "                  callbacks=callbacks)"
      ],
      "execution_count": null,
      "outputs": [
        {
          "output_type": "stream",
          "text": [
            "Epoch 1/2\n",
            "645/645 [==============================] - 107s 160ms/step - loss: 3.4180 - accuracy: 0.3655 - val_loss: 1.9976 - val_accuracy: 0.5410\n",
            "Epoch 2/2\n",
            "645/645 [==============================] - 102s 159ms/step - loss: 1.8865 - accuracy: 0.5602 - val_loss: 1.7356 - val_accuracy: 0.5760\n"
          ],
          "name": "stdout"
        },
        {
          "output_type": "execute_result",
          "data": {
            "text/plain": [
              "<tensorflow.python.keras.callbacks.History at 0x7f1157e8d668>"
            ]
          },
          "metadata": {
            "tags": []
          },
          "execution_count": 58
        }
      ]
    },
    {
      "cell_type": "code",
      "metadata": {
        "id": "Fx9iTwR5xS0P"
      },
      "source": [
        "model_for_pruning.compile(optimizer='adam', loss='categorical_crossentropy', metrics=['accuracy'])"
      ],
      "execution_count": null,
      "outputs": []
    },
    {
      "cell_type": "code",
      "metadata": {
        "colab": {
          "base_uri": "https://localhost:8080/"
        },
        "id": "HHn88TFwxgAA",
        "outputId": "4770424e-f78d-4ead-b996-33b414385ea8"
      },
      "source": [
        "model_for_pruning.evaluate(X_test , y_test1 , verbose = 0)"
      ],
      "execution_count": null,
      "outputs": [
        {
          "output_type": "execute_result",
          "data": {
            "text/plain": [
              "[1.740096926689148, 0.5813000202178955]"
            ]
          },
          "metadata": {
            "tags": []
          },
          "execution_count": 59
        }
      ]
    },
    {
      "cell_type": "code",
      "metadata": {
        "colab": {
          "base_uri": "https://localhost:8080/"
        },
        "id": "xCiIrLCX0CvR",
        "outputId": "a0d909f8-de1c-4824-f13f-b342d8023b72"
      },
      "source": [
        "model.fit(X_train , y_train1 , batch_size=batch_size, epochs=epochs, validation_split=validation_split)"
      ],
      "execution_count": null,
      "outputs": [
        {
          "output_type": "stream",
          "text": [
            "Epoch 1/2\n",
            "645/645 [==============================] - 102s 157ms/step - loss: 3.2765 - accuracy: 0.3805 - val_loss: 2.2359 - val_accuracy: 0.4633\n",
            "Epoch 2/2\n",
            "645/645 [==============================] - 101s 157ms/step - loss: 1.8666 - accuracy: 0.5652 - val_loss: 1.6358 - val_accuracy: 0.6145\n"
          ],
          "name": "stdout"
        },
        {
          "output_type": "execute_result",
          "data": {
            "text/plain": [
              "<tensorflow.python.keras.callbacks.History at 0x7f1154743978>"
            ]
          },
          "metadata": {
            "tags": []
          },
          "execution_count": 60
        }
      ]
    },
    {
      "cell_type": "code",
      "metadata": {
        "colab": {
          "base_uri": "https://localhost:8080/"
        },
        "id": "K041IRKv0Mlj",
        "outputId": "5d6259b4-dfb8-4d06-fd5a-709ba4ba1592"
      },
      "source": [
        "model.evaluate(X_test , y_test1 , verbose = 0)"
      ],
      "execution_count": null,
      "outputs": [
        {
          "output_type": "execute_result",
          "data": {
            "text/plain": [
              "[1.632010817527771, 0.6173999905586243]"
            ]
          },
          "metadata": {
            "tags": []
          },
          "execution_count": 61
        }
      ]
    },
    {
      "cell_type": "code",
      "metadata": {
        "colab": {
          "base_uri": "https://localhost:8080/"
        },
        "id": "BVrPiY_m1Lia",
        "outputId": "b8055ccf-3f13-4b87-b817-62970f8e9bbf"
      },
      "source": [
        "_, keras_file2 = tempfile.mkstemp('.h5')\r\n",
        "print('Saving model to: ', keras_file2)\r\n",
        "tf.keras.models.save_model(model, keras_file2, include_optimizer=False)"
      ],
      "execution_count": null,
      "outputs": [
        {
          "output_type": "stream",
          "text": [
            "Saving model to:  /tmp/tmpv5a8hngs.h5\n"
          ],
          "name": "stdout"
        }
      ]
    },
    {
      "cell_type": "code",
      "metadata": {
        "colab": {
          "base_uri": "https://localhost:8080/"
        },
        "id": "JV9cArHv16Fq",
        "outputId": "83e5177c-ddb2-4c28-f3f1-c21409c7cbe9"
      },
      "source": [
        "_, keras_file3 = tempfile.mkstemp('.h5')\r\n",
        "print('Saving model to: ', keras_file3)\r\n",
        "tf.keras.models.save_model(model_for_pruning, keras_file3, include_optimizer=False)"
      ],
      "execution_count": null,
      "outputs": [
        {
          "output_type": "stream",
          "text": [
            "Saving model to:  /tmp/tmp7qe2xtqc.h5\n"
          ],
          "name": "stdout"
        }
      ]
    },
    {
      "cell_type": "code",
      "metadata": {
        "colab": {
          "base_uri": "https://localhost:8080/"
        },
        "id": "JIis732j1uM2",
        "outputId": "5bf922d4-f920-4f9b-f287-5fd4d4de7d52"
      },
      "source": [
        "print(\"Size of gzipped baseline Keras model: %.2f bytes\" % (get_gzipped_model_size(keras_file2)))"
      ],
      "execution_count": null,
      "outputs": [
        {
          "output_type": "stream",
          "text": [
            "Size of gzipped baseline Keras model: 991530.00 bytes\n"
          ],
          "name": "stdout"
        }
      ]
    },
    {
      "cell_type": "markdown",
      "metadata": {
        "id": "rKlnXCJ2100c"
      },
      "source": [
        "Size of Second Model"
      ]
    },
    {
      "cell_type": "code",
      "metadata": {
        "colab": {
          "base_uri": "https://localhost:8080/"
        },
        "id": "TJtxoMTd1yzR",
        "outputId": "01cf446b-a368-4542-be09-3a47869f7193"
      },
      "source": [
        "print(\"Size of gzipped baseline Keras model: %.2f bytes\" % (get_gzipped_model_size(keras_file3)))"
      ],
      "execution_count": null,
      "outputs": [
        {
          "output_type": "stream",
          "text": [
            "Size of gzipped baseline Keras model: 980624.00 bytes\n"
          ],
          "name": "stdout"
        }
      ]
    },
    {
      "cell_type": "markdown",
      "metadata": {
        "id": "PbDIKJcP2JWM"
      },
      "source": [
        "Size of pruned model"
      ]
    },
    {
      "cell_type": "code",
      "metadata": {
        "colab": {
          "base_uri": "https://localhost:8080/"
        },
        "id": "eDMUnNDw2Cqy",
        "outputId": "547a6643-7724-4a07-dd4d-2d6aa281ff28"
      },
      "source": [
        "model_for_pruning.summary()"
      ],
      "execution_count": null,
      "outputs": [
        {
          "output_type": "stream",
          "text": [
            "Model: \"sequential_1\"\n",
            "_________________________________________________________________\n",
            "Layer (type)                 Output Shape              Param #   \n",
            "=================================================================\n",
            "prune_low_magnitude_conv2d_1 (None, 32, 32, 24)        1322      \n",
            "_________________________________________________________________\n",
            "prune_low_magnitude_batch_no (None, 32, 32, 24)        97        \n",
            "_________________________________________________________________\n",
            "prune_low_magnitude_conv2d_2 (None, 30, 30, 24)        10394     \n",
            "_________________________________________________________________\n",
            "prune_low_magnitude_batch_no (None, 30, 30, 24)        97        \n",
            "_________________________________________________________________\n",
            "prune_low_magnitude_max_pool (None, 15, 15, 24)        1         \n",
            "_________________________________________________________________\n",
            "prune_low_magnitude_dropout  (None, 15, 15, 24)        1         \n",
            "_________________________________________________________________\n",
            "prune_low_magnitude_flatten_ (None, 5400)              1         \n",
            "_________________________________________________________________\n",
            "prune_low_magnitude_dense_2  (None, 48)                518450    \n",
            "_________________________________________________________________\n",
            "prune_low_magnitude_batch_no (None, 48)                193       \n",
            "_________________________________________________________________\n",
            "prune_low_magnitude_dropout_ (None, 48)                1         \n",
            "_________________________________________________________________\n",
            "prune_low_magnitude_dense_3  (None, 10)                972       \n",
            "=================================================================\n",
            "Total params: 531,529\n",
            "Trainable params: 265,810\n",
            "Non-trainable params: 265,719\n",
            "_________________________________________________________________\n"
          ],
          "name": "stdout"
        }
      ]
    },
    {
      "cell_type": "code",
      "metadata": {
        "colab": {
          "base_uri": "https://localhost:8080/"
        },
        "id": "SXQnw-YU2P0b",
        "outputId": "765faefe-87dd-4310-f12d-bc2566133cd3"
      },
      "source": [
        "model.summary()"
      ],
      "execution_count": null,
      "outputs": [
        {
          "output_type": "stream",
          "text": [
            "Model: \"sequential_2\"\n",
            "_________________________________________________________________\n",
            "Layer (type)                 Output Shape              Param #   \n",
            "=================================================================\n",
            "conv2d_3 (Conv2D)            (None, 32, 32, 24)        672       \n",
            "_________________________________________________________________\n",
            "batch_normalization_5 (Batch (None, 32, 32, 24)        96        \n",
            "_________________________________________________________________\n",
            "conv2d_4 (Conv2D)            (None, 30, 30, 24)        5208      \n",
            "_________________________________________________________________\n",
            "batch_normalization_6 (Batch (None, 30, 30, 24)        96        \n",
            "_________________________________________________________________\n",
            "max_pooling2d_2 (MaxPooling2 (None, 15, 15, 24)        0         \n",
            "_________________________________________________________________\n",
            "dropout_2 (Dropout)          (None, 15, 15, 24)        0         \n",
            "_________________________________________________________________\n",
            "flatten_2 (Flatten)          (None, 5400)              0         \n",
            "_________________________________________________________________\n",
            "dense_4 (Dense)              (None, 48)                259248    \n",
            "_________________________________________________________________\n",
            "batch_normalization_7 (Batch (None, 48)                192       \n",
            "_________________________________________________________________\n",
            "dropout_3 (Dropout)          (None, 48)                0         \n",
            "_________________________________________________________________\n",
            "dense_5 (Dense)              (None, 10)                490       \n",
            "=================================================================\n",
            "Total params: 266,002\n",
            "Trainable params: 265,810\n",
            "Non-trainable params: 192\n",
            "_________________________________________________________________\n"
          ],
          "name": "stdout"
        }
      ]
    },
    {
      "cell_type": "code",
      "metadata": {
        "id": "Mbwii9Db2Ttp"
      },
      "source": [
        "quantize_model = tfmot.quantization.keras.quantize_model"
      ],
      "execution_count": null,
      "outputs": []
    },
    {
      "cell_type": "code",
      "metadata": {
        "id": "FkmQxzxI29dm"
      },
      "source": [
        "q_aware_model = quantize_model(model)"
      ],
      "execution_count": null,
      "outputs": []
    },
    {
      "cell_type": "code",
      "metadata": {
        "id": "4rDJ8b_F2-i3"
      },
      "source": [
        "model = Sequential()\r\n",
        "model.add(Conv2D(24 , (3 , 3), activation='relu',input_shape = (32 , 32 , 3), kernel_initializer='he_uniform', padding='same' , kernel_regularizer='l2'))\r\n",
        "model.add(Conv2D(24 , (3 , 3), activation='relu', kernel_initializer='he_uniform' , kernel_regularizer='l2'))\r\n",
        "model.add(MaxPool2D(2 , 2))\r\n",
        "model.add(Dropout(0.2))\r\n",
        "# model.add(Conv2D(48 , (5 , 5), activation='relu', kernel_initializer='he_uniform', padding='same' , kernel_regularizer='l2'))\r\n",
        "# model.add(BatchNormalization())\r\n",
        "# model.add(Conv2D(48 , (5 , 5), activation='relu', kernel_initializer='he_uniform', kernel_regularizer='l2'))\r\n",
        "# model.add(BatchNormalization())\r\n",
        "# model.add(MaxPool2D(2 , 2))\r\n",
        "# model.add(Dropout(0.3))\r\n",
        "model.add(Flatten())\r\n",
        "model.add(Dense(48 , activation='relu', kernel_initializer='he_uniform', kernel_regularizer='l2'))\r\n",
        "model.add(Dropout(0.4))\r\n",
        "model.add(Dense(10 , activation='softmax'))\r\n",
        "model.compile(optimizer='adam', loss='categorical_crossentropy', metrics=['accuracy'])"
      ],
      "execution_count": null,
      "outputs": []
    },
    {
      "cell_type": "code",
      "metadata": {
        "id": "KsHLrJio3Hqm"
      },
      "source": [
        "q_aware_model.compile(optimizer='adam',\r\n",
        "              loss='categorical_crossentropy',\r\n",
        "              metrics=['accuracy'])"
      ],
      "execution_count": null,
      "outputs": []
    },
    {
      "cell_type": "code",
      "metadata": {
        "colab": {
          "base_uri": "https://localhost:8080/"
        },
        "id": "kk30JDiP3RBE",
        "outputId": "a0c7298a-1683-4757-97de-3230a0f916e0"
      },
      "source": [
        "model.fit(X_train , y_train1 , epochs = epochs , validation_split = 0.2 , batch_size=64)"
      ],
      "execution_count": null,
      "outputs": [
        {
          "output_type": "stream",
          "text": [
            "Epoch 1/2\n",
            "625/625 [==============================] - 79s 125ms/step - loss: 3.0480 - accuracy: 0.1782 - val_loss: 2.1020 - val_accuracy: 0.3354\n",
            "Epoch 2/2\n",
            "625/625 [==============================] - 78s 125ms/step - loss: 2.1894 - accuracy: 0.2587 - val_loss: 1.9483 - val_accuracy: 0.3559\n"
          ],
          "name": "stdout"
        },
        {
          "output_type": "execute_result",
          "data": {
            "text/plain": [
              "<tensorflow.python.keras.callbacks.History at 0x7f1154aa27b8>"
            ]
          },
          "metadata": {
            "tags": []
          },
          "execution_count": 73
        }
      ]
    },
    {
      "cell_type": "code",
      "metadata": {
        "colab": {
          "base_uri": "https://localhost:8080/"
        },
        "id": "BoRiasO93dpO",
        "outputId": "a60805ac-c19f-4750-c078-e59bdbd36440"
      },
      "source": [
        "model.evaluate(X_train , y_train1 , verbose = 0)"
      ],
      "execution_count": null,
      "outputs": [
        {
          "output_type": "execute_result",
          "data": {
            "text/plain": [
              "[1.9432638883590698, 0.36004000902175903]"
            ]
          },
          "metadata": {
            "tags": []
          },
          "execution_count": 74
        }
      ]
    },
    {
      "cell_type": "code",
      "metadata": {
        "colab": {
          "base_uri": "https://localhost:8080/"
        },
        "id": "8LtcLT1S4OvE",
        "outputId": "7df12145-5433-403a-ba11-9b29dbb03173"
      },
      "source": [
        "q_aware_model.fit(X_train , y_train1 , epochs = 2 , validation_split = 0.15 , batch_size=64)"
      ],
      "execution_count": null,
      "outputs": [
        {
          "output_type": "stream",
          "text": [
            "Epoch 1/2\n",
            "665/665 [==============================] - 96s 143ms/step - loss: 3.0259 - accuracy: 0.1704 - val_loss: 2.0549 - val_accuracy: 0.3117\n",
            "Epoch 2/2\n",
            "665/665 [==============================] - 95s 142ms/step - loss: 2.1433 - accuracy: 0.2645 - val_loss: 1.9092 - val_accuracy: 0.4165\n"
          ],
          "name": "stdout"
        },
        {
          "output_type": "execute_result",
          "data": {
            "text/plain": [
              "<tensorflow.python.keras.callbacks.History at 0x7f1154933b38>"
            ]
          },
          "metadata": {
            "tags": []
          },
          "execution_count": 75
        }
      ]
    },
    {
      "cell_type": "code",
      "metadata": {
        "colab": {
          "base_uri": "https://localhost:8080/"
        },
        "id": "ULAR9zi34fVn",
        "outputId": "c9041b10-f39d-49f6-afc2-f514dd7d03b2"
      },
      "source": [
        "q_aware_model.evaluate(X_train , y_train1 , verbose = 0)"
      ],
      "execution_count": null,
      "outputs": [
        {
          "output_type": "execute_result",
          "data": {
            "text/plain": [
              "[1.903838872909546, 0.41850000619888306]"
            ]
          },
          "metadata": {
            "tags": []
          },
          "execution_count": 76
        }
      ]
    },
    {
      "cell_type": "code",
      "metadata": {
        "colab": {
          "base_uri": "https://localhost:8080/"
        },
        "id": "vKES5hPy5gnu",
        "outputId": "7df98227-f12f-46ba-857e-816d9ab7a2f2"
      },
      "source": [
        "_, keras_file4 = tempfile.mkstemp('.h5')\r\n",
        "print('Saving model to: ', keras_file4)\r\n",
        "tf.keras.models.save_model(model, keras_file4, include_optimizer=False)"
      ],
      "execution_count": null,
      "outputs": [
        {
          "output_type": "stream",
          "text": [
            "Saving model to:  /tmp/tmpip4_x_se.h5\n"
          ],
          "name": "stdout"
        }
      ]
    },
    {
      "cell_type": "code",
      "metadata": {
        "colab": {
          "base_uri": "https://localhost:8080/"
        },
        "id": "W2vQYJnQ53xF",
        "outputId": "2f1e1b7a-eb99-4506-c8b8-ac580f6393bc"
      },
      "source": [
        "_, keras_file5 = tempfile.mkstemp('.h5')\r\n",
        "print('Saving model to: ', keras_file5)\r\n",
        "tf.keras.models.save_model(q_aware_model, keras_file5, include_optimizer=False)"
      ],
      "execution_count": null,
      "outputs": [
        {
          "output_type": "stream",
          "text": [
            "Saving model to:  /tmp/tmp02x5i7lb.h5\n"
          ],
          "name": "stdout"
        }
      ]
    },
    {
      "cell_type": "code",
      "metadata": {
        "colab": {
          "base_uri": "https://localhost:8080/"
        },
        "id": "JMK-Jm7e5-0a",
        "outputId": "fff7c450-9bb3-4bd9-f703-29f071a899a2"
      },
      "source": [
        "print(\"Size of gzipped baseline Keras model: %.2f bytes\" % (get_gzipped_model_size(keras_file4)))"
      ],
      "execution_count": null,
      "outputs": [
        {
          "output_type": "stream",
          "text": [
            "Size of gzipped baseline Keras model: 1048112.00 bytes\n"
          ],
          "name": "stdout"
        }
      ]
    },
    {
      "cell_type": "markdown",
      "metadata": {
        "id": "SLlpcKXs6Gci"
      },
      "source": [
        "Size of Model 3"
      ]
    },
    {
      "cell_type": "code",
      "metadata": {
        "colab": {
          "base_uri": "https://localhost:8080/"
        },
        "id": "nu4QMx_06FE2",
        "outputId": "31295cb8-99f5-48fc-b378-948b9599cf9d"
      },
      "source": [
        "print(\"Size of gzipped baseline Keras model: %.2f bytes\" % (get_gzipped_model_size(keras_file5)))"
      ],
      "execution_count": null,
      "outputs": [
        {
          "output_type": "stream",
          "text": [
            "Size of gzipped baseline Keras model: 1050633.00 bytes\n"
          ],
          "name": "stdout"
        }
      ]
    },
    {
      "cell_type": "markdown",
      "metadata": {
        "id": "OiGCFGka6Lee"
      },
      "source": [
        "Size of Quantized model"
      ]
    },
    {
      "cell_type": "code",
      "metadata": {
        "id": "EesCuVR16Jx2"
      },
      "source": [
        ""
      ],
      "execution_count": null,
      "outputs": []
    }
  ]
}